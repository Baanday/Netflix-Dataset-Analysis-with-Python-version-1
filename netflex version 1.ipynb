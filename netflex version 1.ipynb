{
 "cells": [
  {
   "cell_type": "code",
   "execution_count": 1,
   "id": "3e40964f-6508-4cb7-9a45-991747961250",
   "metadata": {},
   "outputs": [],
   "source": [
    "import numpy as np\n",
    "import pandas as pd\n",
    "import matplotlib.pyplot as plt \n",
    "import seaborn as sns"
   ]
  },
  {
   "cell_type": "code",
   "execution_count": 2,
   "id": "185a4a00-a548-4a41-b433-45813d7ae847",
   "metadata": {},
   "outputs": [],
   "source": [
    "data=pd.read_csv(r'E:\\data sets\\data.csv')"
   ]
  },
  {
   "cell_type": "code",
   "execution_count": 3,
   "id": "8e6a6876-a3cd-419a-bb68-160af7b89815",
   "metadata": {},
   "outputs": [
    {
     "data": {
      "text/html": [
       "<div>\n",
       "<style scoped>\n",
       "    .dataframe tbody tr th:only-of-type {\n",
       "        vertical-align: middle;\n",
       "    }\n",
       "\n",
       "    .dataframe tbody tr th {\n",
       "        vertical-align: top;\n",
       "    }\n",
       "\n",
       "    .dataframe thead th {\n",
       "        text-align: right;\n",
       "    }\n",
       "</style>\n",
       "<table border=\"1\" class=\"dataframe\">\n",
       "  <thead>\n",
       "    <tr style=\"text-align: right;\">\n",
       "      <th></th>\n",
       "      <th>title</th>\n",
       "      <th>type</th>\n",
       "      <th>genres</th>\n",
       "      <th>releaseYear</th>\n",
       "      <th>imdbId</th>\n",
       "      <th>imdbAverageRating</th>\n",
       "      <th>imdbNumVotes</th>\n",
       "      <th>availableCountries</th>\n",
       "    </tr>\n",
       "  </thead>\n",
       "  <tbody>\n",
       "    <tr>\n",
       "      <th>0</th>\n",
       "      <td>Forrest Gump</td>\n",
       "      <td>movie</td>\n",
       "      <td>Drama, Romance</td>\n",
       "      <td>1994.0</td>\n",
       "      <td>tt0109830</td>\n",
       "      <td>8.8</td>\n",
       "      <td>2314448.0</td>\n",
       "      <td>MX</td>\n",
       "    </tr>\n",
       "    <tr>\n",
       "      <th>1</th>\n",
       "      <td>The Fifth Element</td>\n",
       "      <td>movie</td>\n",
       "      <td>Action, Adventure, Sci-Fi</td>\n",
       "      <td>1997.0</td>\n",
       "      <td>tt0119116</td>\n",
       "      <td>7.6</td>\n",
       "      <td>516698.0</td>\n",
       "      <td>AT, CH, DE</td>\n",
       "    </tr>\n",
       "    <tr>\n",
       "      <th>2</th>\n",
       "      <td>Kill Bill: Vol. 1</td>\n",
       "      <td>movie</td>\n",
       "      <td>Action, Crime, Thriller</td>\n",
       "      <td>2003.0</td>\n",
       "      <td>tt0266697</td>\n",
       "      <td>8.2</td>\n",
       "      <td>1220954.0</td>\n",
       "      <td>AE, AL, AO, AT, AU, AZ, BG, BH, BY, CA, CI, CM...</td>\n",
       "    </tr>\n",
       "    <tr>\n",
       "      <th>3</th>\n",
       "      <td>Jarhead</td>\n",
       "      <td>movie</td>\n",
       "      <td>Biography, Drama, War</td>\n",
       "      <td>2005.0</td>\n",
       "      <td>tt0418763</td>\n",
       "      <td>7.0</td>\n",
       "      <td>211394.0</td>\n",
       "      <td>AD, AE, AG, AL, AO, AR, AT, AZ, BA, BB, BE, BG...</td>\n",
       "    </tr>\n",
       "  </tbody>\n",
       "</table>\n",
       "</div>"
      ],
      "text/plain": [
       "               title   type                     genres  releaseYear  \\\n",
       "0       Forrest Gump  movie             Drama, Romance       1994.0   \n",
       "1  The Fifth Element  movie  Action, Adventure, Sci-Fi       1997.0   \n",
       "2  Kill Bill: Vol. 1  movie    Action, Crime, Thriller       2003.0   \n",
       "3            Jarhead  movie      Biography, Drama, War       2005.0   \n",
       "\n",
       "      imdbId  imdbAverageRating  imdbNumVotes  \\\n",
       "0  tt0109830                8.8     2314448.0   \n",
       "1  tt0119116                7.6      516698.0   \n",
       "2  tt0266697                8.2     1220954.0   \n",
       "3  tt0418763                7.0      211394.0   \n",
       "\n",
       "                                  availableCountries  \n",
       "0                                                 MX  \n",
       "1                                         AT, CH, DE  \n",
       "2  AE, AL, AO, AT, AU, AZ, BG, BH, BY, CA, CI, CM...  \n",
       "3  AD, AE, AG, AL, AO, AR, AT, AZ, BA, BB, BE, BG...  "
      ]
     },
     "execution_count": 3,
     "metadata": {},
     "output_type": "execute_result"
    }
   ],
   "source": [
    "data.head(4)"
   ]
  },
  {
   "cell_type": "code",
   "execution_count": 4,
   "id": "e14911b6-012a-4d4e-95a6-5358015b373e",
   "metadata": {},
   "outputs": [
    {
     "data": {
      "text/plain": [
       "(15860, 8)"
      ]
     },
     "execution_count": 4,
     "metadata": {},
     "output_type": "execute_result"
    }
   ],
   "source": [
    "data.shape"
   ]
  },
  {
   "cell_type": "code",
   "execution_count": 5,
   "id": "97d3dc68-b925-4a7e-9e31-19caa250ac0f",
   "metadata": {},
   "outputs": [
    {
     "data": {
      "text/html": [
       "<div>\n",
       "<style scoped>\n",
       "    .dataframe tbody tr th:only-of-type {\n",
       "        vertical-align: middle;\n",
       "    }\n",
       "\n",
       "    .dataframe tbody tr th {\n",
       "        vertical-align: top;\n",
       "    }\n",
       "\n",
       "    .dataframe thead th {\n",
       "        text-align: right;\n",
       "    }\n",
       "</style>\n",
       "<table border=\"1\" class=\"dataframe\">\n",
       "  <thead>\n",
       "    <tr style=\"text-align: right;\">\n",
       "      <th></th>\n",
       "      <th>releaseYear</th>\n",
       "      <th>imdbAverageRating</th>\n",
       "      <th>imdbNumVotes</th>\n",
       "    </tr>\n",
       "  </thead>\n",
       "  <tbody>\n",
       "    <tr>\n",
       "      <th>count</th>\n",
       "      <td>15848.000000</td>\n",
       "      <td>15135.000000</td>\n",
       "      <td>1.513500e+04</td>\n",
       "    </tr>\n",
       "    <tr>\n",
       "      <th>mean</th>\n",
       "      <td>2010.643362</td>\n",
       "      <td>6.491530</td>\n",
       "      <td>3.880644e+04</td>\n",
       "    </tr>\n",
       "    <tr>\n",
       "      <th>std</th>\n",
       "      <td>15.307278</td>\n",
       "      <td>1.059803</td>\n",
       "      <td>1.336447e+05</td>\n",
       "    </tr>\n",
       "    <tr>\n",
       "      <th>min</th>\n",
       "      <td>1913.000000</td>\n",
       "      <td>1.200000</td>\n",
       "      <td>5.000000e+00</td>\n",
       "    </tr>\n",
       "    <tr>\n",
       "      <th>25%</th>\n",
       "      <td>2008.000000</td>\n",
       "      <td>5.900000</td>\n",
       "      <td>4.270000e+02</td>\n",
       "    </tr>\n",
       "    <tr>\n",
       "      <th>50%</th>\n",
       "      <td>2016.000000</td>\n",
       "      <td>6.600000</td>\n",
       "      <td>2.094000e+03</td>\n",
       "    </tr>\n",
       "    <tr>\n",
       "      <th>75%</th>\n",
       "      <td>2019.000000</td>\n",
       "      <td>7.200000</td>\n",
       "      <td>1.515200e+04</td>\n",
       "    </tr>\n",
       "    <tr>\n",
       "      <th>max</th>\n",
       "      <td>2024.000000</td>\n",
       "      <td>9.500000</td>\n",
       "      <td>2.957474e+06</td>\n",
       "    </tr>\n",
       "  </tbody>\n",
       "</table>\n",
       "</div>"
      ],
      "text/plain": [
       "        releaseYear  imdbAverageRating  imdbNumVotes\n",
       "count  15848.000000       15135.000000  1.513500e+04\n",
       "mean    2010.643362           6.491530  3.880644e+04\n",
       "std       15.307278           1.059803  1.336447e+05\n",
       "min     1913.000000           1.200000  5.000000e+00\n",
       "25%     2008.000000           5.900000  4.270000e+02\n",
       "50%     2016.000000           6.600000  2.094000e+03\n",
       "75%     2019.000000           7.200000  1.515200e+04\n",
       "max     2024.000000           9.500000  2.957474e+06"
      ]
     },
     "execution_count": 5,
     "metadata": {},
     "output_type": "execute_result"
    }
   ],
   "source": [
    "data.describe()"
   ]
  },
  {
   "cell_type": "code",
   "execution_count": 6,
   "id": "4171c37c-109d-4a89-ba9e-222c3a942c7b",
   "metadata": {},
   "outputs": [
    {
     "name": "stdout",
     "output_type": "stream",
     "text": [
      "<class 'pandas.core.frame.DataFrame'>\n",
      "RangeIndex: 15860 entries, 0 to 15859\n",
      "Data columns (total 8 columns):\n",
      " #   Column              Non-Null Count  Dtype  \n",
      "---  ------              --------------  -----  \n",
      " 0   title               15362 non-null  object \n",
      " 1   type                15860 non-null  object \n",
      " 2   genres              15713 non-null  object \n",
      " 3   releaseYear         15848 non-null  float64\n",
      " 4   imdbId              15180 non-null  object \n",
      " 5   imdbAverageRating   15135 non-null  float64\n",
      " 6   imdbNumVotes        15135 non-null  float64\n",
      " 7   availableCountries  15860 non-null  object \n",
      "dtypes: float64(3), object(5)\n",
      "memory usage: 991.4+ KB\n"
     ]
    }
   ],
   "source": [
    "data.info()"
   ]
  },
  {
   "cell_type": "code",
   "execution_count": 7,
   "id": "d8655376-5002-4864-928c-15cd9ef6fc0b",
   "metadata": {},
   "outputs": [
    {
     "data": {
      "text/html": [
       "<div>\n",
       "<style scoped>\n",
       "    .dataframe tbody tr th:only-of-type {\n",
       "        vertical-align: middle;\n",
       "    }\n",
       "\n",
       "    .dataframe tbody tr th {\n",
       "        vertical-align: top;\n",
       "    }\n",
       "\n",
       "    .dataframe thead th {\n",
       "        text-align: right;\n",
       "    }\n",
       "</style>\n",
       "<table border=\"1\" class=\"dataframe\">\n",
       "  <thead>\n",
       "    <tr style=\"text-align: right;\">\n",
       "      <th></th>\n",
       "      <th>title</th>\n",
       "      <th>type</th>\n",
       "      <th>genres</th>\n",
       "      <th>releaseYear</th>\n",
       "      <th>imdbId</th>\n",
       "      <th>imdbAverageRating</th>\n",
       "      <th>imdbNumVotes</th>\n",
       "      <th>availableCountries</th>\n",
       "    </tr>\n",
       "  </thead>\n",
       "  <tbody>\n",
       "    <tr>\n",
       "      <th>0</th>\n",
       "      <td>False</td>\n",
       "      <td>False</td>\n",
       "      <td>False</td>\n",
       "      <td>False</td>\n",
       "      <td>False</td>\n",
       "      <td>False</td>\n",
       "      <td>False</td>\n",
       "      <td>False</td>\n",
       "    </tr>\n",
       "    <tr>\n",
       "      <th>1</th>\n",
       "      <td>False</td>\n",
       "      <td>False</td>\n",
       "      <td>False</td>\n",
       "      <td>False</td>\n",
       "      <td>False</td>\n",
       "      <td>False</td>\n",
       "      <td>False</td>\n",
       "      <td>False</td>\n",
       "    </tr>\n",
       "    <tr>\n",
       "      <th>2</th>\n",
       "      <td>False</td>\n",
       "      <td>False</td>\n",
       "      <td>False</td>\n",
       "      <td>False</td>\n",
       "      <td>False</td>\n",
       "      <td>False</td>\n",
       "      <td>False</td>\n",
       "      <td>False</td>\n",
       "    </tr>\n",
       "    <tr>\n",
       "      <th>3</th>\n",
       "      <td>False</td>\n",
       "      <td>False</td>\n",
       "      <td>False</td>\n",
       "      <td>False</td>\n",
       "      <td>False</td>\n",
       "      <td>False</td>\n",
       "      <td>False</td>\n",
       "      <td>False</td>\n",
       "    </tr>\n",
       "    <tr>\n",
       "      <th>4</th>\n",
       "      <td>False</td>\n",
       "      <td>False</td>\n",
       "      <td>False</td>\n",
       "      <td>False</td>\n",
       "      <td>False</td>\n",
       "      <td>False</td>\n",
       "      <td>False</td>\n",
       "      <td>False</td>\n",
       "    </tr>\n",
       "    <tr>\n",
       "      <th>...</th>\n",
       "      <td>...</td>\n",
       "      <td>...</td>\n",
       "      <td>...</td>\n",
       "      <td>...</td>\n",
       "      <td>...</td>\n",
       "      <td>...</td>\n",
       "      <td>...</td>\n",
       "      <td>...</td>\n",
       "    </tr>\n",
       "    <tr>\n",
       "      <th>15855</th>\n",
       "      <td>True</td>\n",
       "      <td>False</td>\n",
       "      <td>False</td>\n",
       "      <td>True</td>\n",
       "      <td>True</td>\n",
       "      <td>True</td>\n",
       "      <td>True</td>\n",
       "      <td>False</td>\n",
       "    </tr>\n",
       "    <tr>\n",
       "      <th>15856</th>\n",
       "      <td>True</td>\n",
       "      <td>False</td>\n",
       "      <td>True</td>\n",
       "      <td>False</td>\n",
       "      <td>True</td>\n",
       "      <td>True</td>\n",
       "      <td>True</td>\n",
       "      <td>False</td>\n",
       "    </tr>\n",
       "    <tr>\n",
       "      <th>15857</th>\n",
       "      <td>True</td>\n",
       "      <td>False</td>\n",
       "      <td>True</td>\n",
       "      <td>False</td>\n",
       "      <td>True</td>\n",
       "      <td>True</td>\n",
       "      <td>True</td>\n",
       "      <td>False</td>\n",
       "    </tr>\n",
       "    <tr>\n",
       "      <th>15858</th>\n",
       "      <td>True</td>\n",
       "      <td>False</td>\n",
       "      <td>True</td>\n",
       "      <td>True</td>\n",
       "      <td>True</td>\n",
       "      <td>True</td>\n",
       "      <td>True</td>\n",
       "      <td>False</td>\n",
       "    </tr>\n",
       "    <tr>\n",
       "      <th>15859</th>\n",
       "      <td>False</td>\n",
       "      <td>False</td>\n",
       "      <td>False</td>\n",
       "      <td>False</td>\n",
       "      <td>False</td>\n",
       "      <td>False</td>\n",
       "      <td>False</td>\n",
       "      <td>False</td>\n",
       "    </tr>\n",
       "  </tbody>\n",
       "</table>\n",
       "<p>15860 rows × 8 columns</p>\n",
       "</div>"
      ],
      "text/plain": [
       "       title   type  genres  releaseYear  imdbId  imdbAverageRating  \\\n",
       "0      False  False   False        False   False              False   \n",
       "1      False  False   False        False   False              False   \n",
       "2      False  False   False        False   False              False   \n",
       "3      False  False   False        False   False              False   \n",
       "4      False  False   False        False   False              False   \n",
       "...      ...    ...     ...          ...     ...                ...   \n",
       "15855   True  False   False         True    True               True   \n",
       "15856   True  False    True        False    True               True   \n",
       "15857   True  False    True        False    True               True   \n",
       "15858   True  False    True         True    True               True   \n",
       "15859  False  False   False        False   False              False   \n",
       "\n",
       "       imdbNumVotes  availableCountries  \n",
       "0             False               False  \n",
       "1             False               False  \n",
       "2             False               False  \n",
       "3             False               False  \n",
       "4             False               False  \n",
       "...             ...                 ...  \n",
       "15855          True               False  \n",
       "15856          True               False  \n",
       "15857          True               False  \n",
       "15858          True               False  \n",
       "15859         False               False  \n",
       "\n",
       "[15860 rows x 8 columns]"
      ]
     },
     "execution_count": 7,
     "metadata": {},
     "output_type": "execute_result"
    }
   ],
   "source": [
    "data1=data.isnull()\n",
    "data1"
   ]
  },
  {
   "cell_type": "code",
   "execution_count": 8,
   "id": "1a45caec-6b93-49b8-9b2b-cf6c42057b66",
   "metadata": {},
   "outputs": [
    {
     "data": {
      "text/plain": [
       "title                 498\n",
       "type                    0\n",
       "genres                147\n",
       "releaseYear            12\n",
       "imdbId                680\n",
       "imdbAverageRating     725\n",
       "imdbNumVotes          725\n",
       "availableCountries      0\n",
       "dtype: int64"
      ]
     },
     "execution_count": 8,
     "metadata": {},
     "output_type": "execute_result"
    }
   ],
   "source": [
    "data.isnull().sum()"
   ]
  },
  {
   "cell_type": "code",
   "execution_count": 22,
   "id": "8ae0e0d3-78f5-48a9-aa99-e153cb40a7b2",
   "metadata": {},
   "outputs": [
    {
     "name": "stdout",
     "output_type": "stream",
     "text": [
      "top 10 highest rating movies are\n",
      " Empty DataFrame\n",
      "Columns: [title, imdbAverageRating]\n",
      "Index: []\n"
     ]
    }
   ],
   "source": [
    "#top 10 highest rating movies\n",
    "highest_rating_movies=data[data['type']=='movies'].nlargest(10,'imdbAverageRating')[['title','imdbAverageRating']]\n",
    "print('top 10 highest rating movies are\\n', highest_rating_movies)"
   ]
  },
  {
   "cell_type": "code",
   "execution_count": 28,
   "id": "35ce5608-058d-4639-9a47-db16476c65bc",
   "metadata": {},
   "outputs": [
    {
     "name": "stdout",
     "output_type": "stream",
     "text": [
      "counted values are\n",
      " title                         type   genres                       releaseYear  imdbId      imdbAverageRating  imdbNumVotes  availableCountries                                                                                                                                                                                                                                                                                                                                                                                                                                                                                                                    \n",
      "#Alive                        movie  Action, Drama, Horror        2020.0       tt10620868  6.3                49651.0       AD, AE, AG, AL, AO, AR, AT, AU, AZ, BA, BB, BE, BG, BH, BM, BO, BR, BS, BY, BZ, CA, CH, CI, CL, CM, CO, CR, CU, CV, CY, CZ, DE, DK, DO, DZ, EC, EE, EG, ES, FI, FJ, FR, GB, GF, GG, GH, GI, GQ, GR, GT, HK, HN, HR, HU, ID, IE, IL, IN, IQ, IS, IT, JM, JO, JP, KE, KR, KW, LB, LC, LI, LT, LU, LV, LY, MA, MC, MD, ME, MG, MK, ML, MT, MU, MX, MY, MZ, NE, NG, NI, NL, NO, NZ, OM, PA, PE, PF, PH, PK, PL, PS, PT, PY, QA, RO, RS, SA, SC, SE, SG, SI, SK, SM, SN, SV, TC, TH, TN, TR, TT, TW, TZ, UA, UG, US, UY, VE, YE, ZA, ZM, ZW    1\n",
      "School of Rock                movie  Comedy, Music                2003.0       tt0332379   7.2                338144.0      AZ, BY, JP, LT, LV, UA                                                                                                                                                                                                                                                                                                                                                                                                                                                                                                                    1\n",
      "Scavengers Reign              tv     Adventure, Animation, Drama  2023.0       tt21056886  8.6                23771.0       BM, GB, GG, GI, IE, NZ, TC, US                                                                                                                                                                                                                                                                                                                                                                                                                                                                                                            1\n",
      "Scenes from a Celebrity Life  movie  Comedy                       2009.0       tt1450669   4.6                126.0         AT, BE, BG, CH, CZ, DE, EE, ES, FR, GB, GF, GI, GR, HR, HU, IS, IT, LI, LT, LU, LV, MT, NL, PF, PL, PT, RO, SI, SK                                                                                                                                                                                                                                                                                                                                                                                                                        1\n",
      "Scenes from a Marriage        movie  Drama                        1974.0       tt6725014   8.3                9089.0        FI, NO, SE                                                                                                                                                                                                                                                                                                                                                                                                                                                                                                                                1\n",
      "                                                                                                                                                                                                                                                                                                                                                                                                                                                                                                                                                                                                                                                                     ..\n",
      "Hi5teria                      movie  Horror, Mystery              2012.0       tt2251820   5.9                114.0         ID                                                                                                                                                                                                                                                                                                                                                                                                                                                                                                                                        1\n",
      "Hibana                        tv     Drama                        2016.0       tt5301958   7.7                1132.0        AD, AE, AL, AO, AR, AT, AU, AZ, BA, BB, BE, BG, BH, BM, BO, BR, BY, BZ, CA, CH, CI, CL, CM, CO, CR, CU, CV, CY, DE, DK, DO, DZ, EC, EE, EG, ES, FI, FJ, FR, GB, GF, GG, GH, GI, GQ, GR, GT, HK, HN, IE, IL, IN, IQ, IS, IT, JM, JO, JP, KE, KR, KW, LB, LC, LI, LT, LU, LV, LY, MA, MC, MD, ME, MG, MK, ML, MT, MU, MX, MZ, NE, NG, NI, NL, NO, NZ, OM, PA, PE, PF, PH, PK, PL, PS, PT, PY, QA, RO, RS, SA, SC, SE, SG, SI, SK, SM, SN, SV, TH, TN, TR, TT, TW, TZ, UG, US, UY, VE, YE, ZA, ZM, ZW                                        1\n",
      "Hibou                         movie  Comedy                       2016.0       tt5058358   4.9                220.0         KR                                                                                                                                                                                                                                                                                                                                                                                                                                                                                                                                        1\n",
      "Hidden Identity               movie  Crime, Drama                 2015.0       tt4871736   5.0                40.0          AL, AT, BA, BG, CH, CZ, DE, EE, GR, HR, HU, IS, LT, LV, MD, ME, MK, NL, NO, PT, RO, RS, SE, SI, SK                                                                                                                                                                                                                                                                                                                                                                                                                                        1\n",
      "Ödipussi                      movie  Comedy, Romance              1988.0       tt0094407   7.4                4396.0        AT, CH, DE, LI                                                                                                                                                                                                                                                                                                                                                                                                                                                                                                                            1\n",
      "Name: count, Length: 15135, dtype: int64\n"
     ]
    }
   ],
   "source": [
    "#count values\n",
    "count_values=data.value_counts()\n",
    "print(\"counted values are\\n\",count_values)"
   ]
  },
  {
   "cell_type": "code",
   "execution_count": 30,
   "id": "5f33a966-b91b-4e41-a90f-b02534c8fac7",
   "metadata": {},
   "outputs": [
    {
     "name": "stdout",
     "output_type": "stream",
     "text": [
      "value counts of types are\n",
      " type\n",
      "movie    11249\n",
      "tv        4611\n",
      "Name: count, dtype: int64\n"
     ]
    }
   ],
   "source": [
    "value_counts_of_types=data['type'].value_counts()\n",
    "print(\"value counts of types are\\n\",value_counts_of_types)"
   ]
  },
  {
   "cell_type": "code",
   "execution_count": 32,
   "id": "c011a4eb-aa61-426c-8324-cd7b3807f47e",
   "metadata": {},
   "outputs": [
    {
     "name": "stdout",
     "output_type": "stream",
     "text": [
      "average_rating_of_genres are\n",
      " genres\n",
      "Documentary, Family, Reality-TV    9.1\n",
      "Comedy, Game-Show                  9.0\n",
      "Adventure, Sport, Talk-Show        8.7\n",
      "Family, Talk-Show                  8.7\n",
      "Family, Music, Reality-TV          8.6\n",
      "                                  ... \n",
      "Soap, Drama                        NaN\n",
      "Talk                               NaN\n",
      "Talk, Reality                      NaN\n",
      "Thriller, Drama                    NaN\n",
      "Thriller, Horror                   NaN\n",
      "Name: imdbAverageRating, Length: 726, dtype: float64\n"
     ]
    }
   ],
   "source": [
    "#average rating of each genre\n",
    "average_rating_of_genres=data.groupby('genres')['imdbAverageRating'].mean().sort_values(ascending=False)\n",
    "print(\"average_rating_of_genres are\\n\",average_rating_of_genres)"
   ]
  },
  {
   "cell_type": "code",
   "execution_count": 36,
   "id": "1215efbc-8576-4dd0-9f2e-0ee9edbcbcd2",
   "metadata": {},
   "outputs": [
    {
     "name": "stdout",
     "output_type": "stream",
     "text": [
      "most common genres in each country are\n",
      " availableCountries\n",
      "AD                                                                                                                                                                                                                                                                                                                                                                                                                                                                                                                                                           (AD, Action, Adventure, Biography)\n",
      "AD, AE, AG, AL, AO, AR, AT, AU, AZ, BA, BB, BE, BG, BH, BM, BO, BR, BS, BY, BZ, CA, CH, CI, CL, CM, CO, CR, CU, CV, CY, CZ, DE, DK, DO, DZ, EC, EE, EG, ES, FI, FJ, FR, GB, GF, GG, GH, GI, GQ, GR, GT, HK, HN, HR, HU, ID, IE, IL, IN, IQ, IS, IT, JM, JO, JP, KE, KR, KW, LB, LC, LI, LT, LU, LV, LY, MA, MC, MD, ME, MG, MK, ML, MT, MU, MX, MY, MZ, NE, NG, NI, NL, NO, NZ, OM, PA, PE, PF, PH, PK, PL, PS, PT, PY, QA, RO, RS, SA, SC, SE, SG, SI, SK, SM, SN, SV, TC, TD, TH, TN, TR, TT, TW, TZ, UA, UG, US, UY, VE, YE, ZA, ZM, ZW    (AD, AE, AG, AL, AO, AR, AT, AU, AZ, BA, BB, B...\n",
      "AD, AE, AG, AL, AO, AR, AT, AU, AZ, BA, BB, BE, BG, BH, BM, BO, BR, BS, BY, BZ, CA, CH, CI, CL, CM, CO, CR, CU, CV, CY, CZ, DE, DK, DO, DZ, EC, EE, EG, ES, FI, FJ, FR, GB, GF, GG, GH, GI, GQ, GR, GT, HK, HN, HR, HU, ID, IE, IL, IN, IQ, IS, IT, JM, JO, JP, KE, KR, KW, LB, LC, LI, LT, LU, LV, LY, MA, MC, MD, ME, MG, MK, ML, MT, MU, MX, MY, MZ, NE, NG, NI, NL, NO, NZ, OM, PA, PE, PF, PH, PK, PL, PS, PT, PY, QA, RO, RS, SA, SC, SE, SG, SI, SK, SM, SN, SV, TC, TD, TH, TN, TR, TT, TW, TZ, UA, UG, UY, VE, YE, ZA, ZM, ZW        (AD, AE, AG, AL, AO, AR, AT, AU, AZ, BA, BB, B...\n",
      "AD, AE, AG, AL, AO, AR, AT, AU, AZ, BA, BB, BE, BG, BH, BM, BO, BR, BS, BY, BZ, CA, CH, CI, CL, CM, CO, CR, CU, CV, CY, CZ, DE, DK, DO, DZ, EC, EE, EG, ES, FI, FJ, FR, GB, GF, GG, GH, GI, GQ, GR, GT, HK, HN, HR, HU, ID, IE, IL, IN, IQ, IS, IT, JM, JO, JP, KE, KR, KW, LB, LC, LI, LT, LU, LV, LY, MA, MC, MD, ME, MG, MK, ML, MT, MU, MX, MY, MZ, NE, NG, NI, NL, NO, NZ, OM, PA, PE, PF, PH, PK, PL, PS, PT, PY, QA, RO, RS, SA, SC, SE, SG, SI, SK, SM, SN, SV, TC, TD, TH, TN, TR, TT, TW, TZ, UG, US, UY, VE, YE, ZA, ZM, ZW        (AD, AE, AG, AL, AO, AR, AT, AU, AZ, BA, BB, B...\n",
      "AD, AE, AG, AL, AO, AR, AT, AU, AZ, BA, BB, BE, BG, BH, BM, BO, BR, BS, BY, BZ, CA, CH, CI, CL, CM, CO, CR, CU, CV, CY, CZ, DE, DK, DO, DZ, EC, EE, EG, ES, FI, FJ, FR, GB, GF, GG, GH, GI, GQ, GR, GT, HK, HN, HR, HU, ID, IE, IL, IN, IQ, IS, IT, JM, JO, JP, KE, KR, KW, LB, LC, LI, LT, LU, LV, LY, MA, MC, MD, ME, MG, MK, ML, MT, MU, MX, MY, MZ, NE, NG, NI, NL, NO, NZ, OM, PA, PE, PF, PH, PK, PL, PS, PT, PY, QA, RO, RS, SA, SC, SE, SG, SI, SK, SM, SN, SV, TC, TH, TN, TR, TT, TW, TZ, UA, UG, US, UY, VE, YE, ZA, ZM, ZW        (AD, AE, AG, AL, AO, AR, AT, AU, AZ, BA, BB, B...\n",
      "                                                                                                                                                                                                                                                                                                                                                                                                                                                                                                                                                                    ...                        \n",
      "TW                                                                                                                                                                                                                                                                                                                                                                                                                                                                                                                                                                                  (TW, Drama)\n",
      "TW, ZA                                                                                                                                                                                                                                                                                                                                                                                                                                                                                                                                                                  (TW, ZA, Comedy, Drama)\n",
      "TZ                                                                                                                                                                                                                                                                                                                                                                                                                                                                                                                                                                 (TZ, Comedy, Drama, Romance)\n",
      "UA                                                                                                                                                                                                                                                                                                                                                                                                                                                                                                                                                                                 (UA, Comedy)\n",
      "US                                                                                                                                                                                                                                                                                                                                                                                                                                                                                                                                                                                 (US, Comedy)\n",
      "Length: 5027, dtype: object\n"
     ]
    }
   ],
   "source": [
    "#most common genre in each country\n",
    "most_common_genres_in_each_country=data.groupby([\"availableCountries\",\"genres\"]).size().groupby(level=0).idxmax()\n",
    "print(\"most common genres in each country are\\n\",most_common_genres_in_each_country)"
   ]
  },
  {
   "cell_type": "code",
   "execution_count": null,
   "id": "1111efe1-061c-4716-acd6-cc02320fd231",
   "metadata": {},
   "outputs": [],
   "source": [
    "#top 5 most voted titles\n",
    "top_five_most_voted_titles=data.nlargest(5,\"imdbNumVotes\")[[\"title\",\"imdbNumVotes\"]]\n",
    "print(\"most voted titles\\n\",top_five_most_voted_titles"
   ]
  }
 ],
 "metadata": {
  "kernelspec": {
   "display_name": "Python 3 (ipykernel)",
   "language": "python",
   "name": "python3"
  },
  "language_info": {
   "codemirror_mode": {
    "name": "ipython",
    "version": 3
   },
   "file_extension": ".py",
   "mimetype": "text/x-python",
   "name": "python",
   "nbconvert_exporter": "python",
   "pygments_lexer": "ipython3",
   "version": "3.12.7"
  }
 },
 "nbformat": 4,
 "nbformat_minor": 5
}
